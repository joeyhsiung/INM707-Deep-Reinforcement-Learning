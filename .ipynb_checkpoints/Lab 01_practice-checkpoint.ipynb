{
 "cells": [
  {
   "cell_type": "markdown",
   "metadata": {},
   "source": [
    "# Lab 01 - Exit the dungeon!\n",
    "\n",
    "In this first lab, we will create by hand our first Reinforcement Learning environment.\n",
    "A lot of agents will be harmed in the process of solving the lab.\n",
    "\n",
    "## The environment\n",
    "\n",
    "The environment is a NxN array of integers. \n",
    "Each cell of this environment can have the following values:\n",
    "- 0 : empty cell\n",
    "- 1 : obstacle, non-traversable\n",
    "- 2 : lava\n",
    "- 3 : exit\n",
    "\n",
    "All border cells are obstacles.\n",
    "Upon initialization, the environment has:\n",
    "- N/2 obstacles placed randomly in the maze.\n",
    "- N/2 lava cells placed randomly in the cell.\n",
    "\n",
    "## The game\n",
    "\n",
    "The agent starts in a random empty cell, and has to reach the exit.\n",
    "The exit is randomly positioned in an other empty cell.\n",
    "\n",
    "At each timestep:\n",
    "- the agent decides on an action (move up, left, right or down)\n",
    "- the action is sent to the environment\n",
    "- the environment sends back observations, rewards and a boolean that indicates whether the environment terminated.\n",
    "\n",
    "The environment terminates if the agent reaches the exit, or if the environement reaches a time limit of N^2 timesteps.\n",
    "\n",
    "## Observations\n",
    "\n",
    "The agent receives a dictionary of observations:\n",
    "- target: relative coordinates of the exit \n",
    "- proximity: a 3x3 array that encodes for the value of the cells around the agent.\n",
    "\n",
    "## Rewards\n",
    "\n",
    "When acting, an agent receives a reward depending on the cell it ends up on:\n",
    "- if the agent moves towards an obstacle, it gets a reward of -5 and stays at its original position\n",
    "- if the agent is on a lava cell after its action, it receives a reward of -20\n",
    "- at each timestep, the agent receives an additional reward of -1\n",
    "- when the agent reaches the goal, it receives a reward of N**2\n"
   ]
  },
  {
   "cell_type": "code",
   "execution_count": 1,
   "metadata": {},
   "outputs": [],
   "source": [
    "import numpy as np\n",
    "import matplotlib.pyplot as plt\n",
    "from random import randrange"
   ]
  },
  {
   "cell_type": "markdown",
   "metadata": {},
   "source": [
    "# Part 1 - Defining the environment.\n",
    "\n",
    "We will define the environment as a class.\n",
    "We are providing pseudo code which is incomplete and probably not completely error-free.\n",
    "\n",
    "You have to fill the blanks.\n",
    "We advise you to look at the pseudo-code for Part 2 and 3 to have an idea of how things work together.\n",
    "\n",
    "In order to make sure that your environment runs as intended, you will create a display function."
   ]
  },
  {
   "cell_type": "code",
   "execution_count": 16,
   "metadata": {},
   "outputs": [
    {
     "name": "stdout",
     "output_type": "stream",
     "text": [
      "agnt [1 1]\n",
      "exit [2 3]\n",
      "[[1. 1. 1. 1. 1.]\n",
      " [1. 5. 0. 0. 1.]\n",
      " [1. 2. 1. 3. 1.]\n",
      " [1. 2. 0. 1. 1.]\n",
      " [1. 1. 1. 1. 1.]]\n"
     ]
    }
   ],
   "source": [
    "class Dungeon:\n",
    "    \n",
    "    def __init__(self, N):\n",
    "\n",
    "        # The environment is a NxN array of integers. Each cell of this environment can have the following values:\n",
    "        self.N = N\n",
    "        self.empty = 0\n",
    "        self.obstacle = 1\n",
    "        self.lava = 2\n",
    "        self.exit = 3\n",
    "        self.agent = 5\n",
    "        \n",
    "        self.reward = 0\n",
    "        \n",
    "        # Numpy array that holds the information about the environment\n",
    "        self.dungeon = self.create_dungeon(N)\n",
    "        \n",
    "        # position of the agent and exit will be decided by resetting the environment.\n",
    "        self.position_agent = None\n",
    "        self.position_exit = None\n",
    "        \n",
    "        # run time\n",
    "        self.time_elapsed = 0\n",
    "        self.time_limit = N*N\n",
    "        \n",
    "    def create_dungeon(self,N):\n",
    "        num_obs = int(N/2)\n",
    "        num_lava = int(N/2)\n",
    "        dungeon = np.zeros((N, N))\n",
    "        dungeon[:,[0,-1]] = dungeon[[0,-1]] = 1\n",
    "        \n",
    "        #add obstacle and lavas\n",
    "        while num_obs > 0:\n",
    "            obs_rnd_x,obs_rnd_y = randrange(1,N-1),randrange(1,N-1)\n",
    "            if dungeon[obs_rnd_x][obs_rnd_x] == 0:\n",
    "                dungeon[obs_rnd_x][obs_rnd_x] = self.obstacle\n",
    "                num_obs -= 1\n",
    "        while num_lava > 0:\n",
    "            lava_rnd_x,lava_rnd_y = randrange(1,N-1),randrange(1,N-1)\n",
    "            if dungeon[lava_rnd_x][lava_rnd_y] == 0:\n",
    "                dungeon[lava_rnd_x][lava_rnd_y] = self.lava\n",
    "                num_lava -= 1                \n",
    "\n",
    "        #print(dungeon)\n",
    "        return dungeon\n",
    "        \n",
    "        \n",
    "    def step(self, action):\n",
    "        action = 'left' # This temple ##################################################################\n",
    "        # action is 'up', 'down', 'left', or 'right'\n",
    "        actions = {'up':(-1,0),'down':(1,0),'left':(0,-1),'right':(0,1)}\n",
    "        X = actions[action][0]\n",
    "        Y = actions[action][1]\n",
    "        \n",
    "        # modify the position of the agent\n",
    "        self.position_agent[0] += X\n",
    "        self.position_agent[1] += Y\n",
    "        print(self.position_agent)\n",
    "        \n",
    "        # calculate total reward\n",
    "        rewards = {1:-5,2:-20,0:-1,3:(self.N**2)}\n",
    "        \n",
    "        curr_pos = self.position_agent\n",
    "        curr_status = self.dungeon[curr_pos[0]][curr_pos[1]]\n",
    "        \n",
    "        self.reward += rewards[curr_status]\n",
    "        print(self.reward)\n",
    "        \n",
    "        # calculate observations\n",
    "        \n",
    "        # update time\n",
    "        while self.time_limit > 0:\n",
    "            self.time_limit -= 1\n",
    "        # verify termination condition\n",
    "        done =...\n",
    "        \n",
    "        # update agent location\n",
    "        if curr_pos not reach boundary:\n",
    "            #update old\n",
    "            #update new position\n",
    "            \n",
    "        # return observations, reward, done\n",
    "    \n",
    "    def display(self):\n",
    "        # prints the environment\n",
    "        print(self.dungeon)\n",
    "        # ...\n",
    "        \n",
    "    def reset(self):\n",
    "        \"\"\"\n",
    "        This function resets the environment to its original state (time = 0).\n",
    "        Then it places the agent and exit at new random locations.\n",
    "        \n",
    "        It is common practice to return the observations, \n",
    "        so that the agent can decide on the first action right after the resetting of the environment.\n",
    "        \n",
    "        \"\"\"\n",
    "        self.time_elapsed = 0\n",
    "        self.time_limit = self.N**2\n",
    "        \n",
    "        # position of the agent is a numpy array    \n",
    "        while True:\n",
    "            agent_rnd_x,agent_rnd_y = randrange(1,(self.N-1)),randrange(1,(self.N-1))\n",
    "            if self.dungeon[agent_rnd_x][agent_rnd_y] == 0:\n",
    "                self.dungeon[agent_rnd_x][agent_rnd_y] = self.agent\n",
    "                self.position_agent = np.array([agent_rnd_x,agent_rnd_y]) #get the agent XY point\n",
    "                print('agnt',self.position_agent)\n",
    "                break\n",
    "        \n",
    "        # position of the exit is a numpy array    \n",
    "        while True:\n",
    "            exit_rnd_x,exit_rnd_y = randrange(1,(self.N-1)),randrange(1,(self.N-1))\n",
    "            if self.dungeon[exit_rnd_x][exit_rnd_y] == 0:\n",
    "                self.dungeon[exit_rnd_x][exit_rnd_y] = self.exit\n",
    "                self.position_exit = np.array([exit_rnd_x,exit_rnd_y]) #get the exit XY point\n",
    "                print('exit',self.position_exit)\n",
    "                break\n",
    "        \n",
    "        # Calculate observations\n",
    "        observations = np.array(self.dungeon)\n",
    "        #print(observations)\n",
    "        return observations\n",
    "dungeon = Dungeon(5)\n",
    "dungeon.reset()\n",
    "dungeon.display()"
   ]
  },
  {
   "cell_type": "code",
   "execution_count": 17,
   "metadata": {},
   "outputs": [
    {
     "name": "stdout",
     "output_type": "stream",
     "text": [
      "[1 0]\n",
      "-5\n"
     ]
    }
   ],
   "source": [
    "dungeon.step('left')"
   ]
  },
  {
   "cell_type": "code",
   "execution_count": null,
   "metadata": {},
   "outputs": [],
   "source": []
  },
  {
   "cell_type": "code",
   "execution_count": 13,
   "metadata": {},
   "outputs": [
    {
     "ename": "AttributeError",
     "evalue": "'Dungeon' object has no attribute 'reset'",
     "output_type": "error",
     "traceback": [
      "\u001b[1;31m---------------------------------------------------------------------------\u001b[0m",
      "\u001b[1;31mAttributeError\u001b[0m                            Traceback (most recent call last)",
      "\u001b[1;32m<ipython-input-13-e3b51b27cc29>\u001b[0m in \u001b[0;36m<module>\u001b[1;34m\u001b[0m\n\u001b[0;32m      1\u001b[0m \u001b[0mdungeon\u001b[0m \u001b[1;33m=\u001b[0m \u001b[0mDungeon\u001b[0m\u001b[1;33m(\u001b[0m\u001b[1;36m10\u001b[0m\u001b[1;33m)\u001b[0m\u001b[1;33m\u001b[0m\u001b[1;33m\u001b[0m\u001b[0m\n\u001b[1;32m----> 2\u001b[1;33m \u001b[0mdungeon\u001b[0m\u001b[1;33m.\u001b[0m\u001b[0mreset\u001b[0m\u001b[1;33m(\u001b[0m\u001b[1;33m)\u001b[0m\u001b[1;33m\u001b[0m\u001b[1;33m\u001b[0m\u001b[0m\n\u001b[0m\u001b[0;32m      3\u001b[0m \u001b[1;33m\u001b[0m\u001b[0m\n\u001b[0;32m      4\u001b[0m \u001b[0mprint\u001b[0m\u001b[1;33m(\u001b[0m\u001b[0mdungeon\u001b[0m\u001b[1;33m.\u001b[0m\u001b[0mposition_agent\u001b[0m\u001b[1;33m)\u001b[0m\u001b[1;33m\u001b[0m\u001b[1;33m\u001b[0m\u001b[0m\n\u001b[0;32m      5\u001b[0m \u001b[0mdungeon\u001b[0m\u001b[1;33m.\u001b[0m\u001b[0mdisplay\u001b[0m\u001b[1;33m(\u001b[0m\u001b[1;33m)\u001b[0m\u001b[1;33m\u001b[0m\u001b[1;33m\u001b[0m\u001b[0m\n",
      "\u001b[1;31mAttributeError\u001b[0m: 'Dungeon' object has no attribute 'reset'"
     ]
    }
   ],
   "source": [
    "dungeon = Dungeon(10)\n",
    "dungeon.reset()\n",
    "\n",
    "print(dungeon.position_agent)\n",
    "dungeon.display()\n",
    "obs, reward, done = dungeon.step( ... )\n",
    "\n",
    "print(dungeon.position_agent)"
   ]
  },
  {
   "cell_type": "code",
   "execution_count": null,
   "metadata": {},
   "outputs": [],
   "source": []
  },
  {
   "cell_type": "markdown",
   "metadata": {},
   "source": [
    "# Part 2 - Defining a policy\n",
    "\n",
    "##### A policy tells the agent how to act depending on its current observation and internal beliefs.\n",
    "\n",
    "As a first simple case, we will define policy as a function that maps observations to actions.\n",
    "\n",
    "As your agent is stupid and doesn't have any way of learning what to do, in this first lab we will write by hand the policy.\n",
    "Try to come up with a strategy to terminate the game with the maximum reward.\n",
    "\n",
    "We advise you to start with a very simple policy, then maybe try a random policy, and finally an 'intelligent' policy.\n"
   ]
  },
  {
   "cell_type": "code",
   "execution_count": 64,
   "metadata": {},
   "outputs": [],
   "source": [
    "def basic_policy(observation):\n",
    "    \n",
    "    ...\n",
    "    \n",
    "    return action\n",
    "\n",
    "def random_policy(observation):\n",
    "    actions = ['up','down','left','right']\n",
    "    actions = np.random.choice(list(actions)\n",
    "    return action\n",
    "    \n",
    "def intelligent_policy(observation):\n",
    "    ...\n",
    "    "
   ]
  },
  {
   "cell_type": "markdown",
   "metadata": {},
   "source": [
    "# Part 3 - Evaluating your policy\n",
    "\n",
    "Now that you have the environment and policies, you can simulate runs of your games under different policies and evaluate the reward that particular policies will get upon termination of the environment. \n",
    "\n",
    "To that effect, we will create a function run_single_experiment, which will have as input:\n",
    "- an instance of an environment\n",
    "- a policy\n",
    "\n",
    "And it will return the reward obtained once the environment terminates.\n"
   ]
  },
  {
   "cell_type": "code",
   "execution_count": 5,
   "metadata": {},
   "outputs": [],
   "source": [
    "def run_single_exp(envir, policy):\n",
    "    \n",
    "    obs = envir.reset()\n",
    "    done = False\n",
    "    \n",
    "    while not done:\n",
    "        \n",
    "        action = ...\n",
    "        obs, reward, done = ...\n",
    "        \n",
    "    \n",
    "    return total_reward"
   ]
  },
  {
   "cell_type": "markdown",
   "metadata": {},
   "source": [
    "# Part 3 - Evaluating your policy\n",
    "\n",
    "Now that you can evaluate how a policy performs on a particular environment, consider the following.\n",
    "Because of stochasticity of initial agent position and exit position, different runs will lead to different total rewards.\n",
    "\n",
    "To properly evaluate our policies, we must calculate the statistics over multiple runs.\n",
    "\n",
    "To that effect, we will create a function run_experiments, which will have as input:\n",
    "- an instance of an environment\n",
    "- a policy\n",
    "- a number of times that the experiment will be run\n",
    "\n",
    "It will return the maximum reward obtained over all the runs, the average and variance over the rewards.\n"
   ]
  },
  {
   "cell_type": "code",
   "execution_count": null,
   "metadata": {},
   "outputs": [],
   "source": [
    "def run_experiments(envir, policy, number_exp):\n",
    "    \n",
    "    all_rewards = []\n",
    "    \n",
    "    for n in range(number_exp):\n",
    "        \n",
    "        final_reward = run_single_exp(envir, policy)\n",
    "        all_rewards.append(final_reward)\n",
    "    \n",
    "    max_reward = \n",
    "    mean_reward = \n",
    "    var_reward = \n",
    "    \n",
    "    return max_reward, mean_reward, var_reward\n",
    "    "
   ]
  },
  {
   "cell_type": "markdown",
   "metadata": {},
   "source": [
    "# Part 4\n",
    "\n",
    "Draw some plots to compare how your different policies perform depending on the environment size.\n",
    "\n",
    "As the environment generation is also stochastic (random obstacles and lava), you might need to compute additional statistics.\n"
   ]
  },
  {
   "cell_type": "code",
   "execution_count": null,
   "metadata": {},
   "outputs": [],
   "source": []
  }
 ],
 "metadata": {
  "kernelspec": {
   "display_name": "Python 3",
   "language": "python",
   "name": "python3"
  },
  "language_info": {
   "codemirror_mode": {
    "name": "ipython",
    "version": 3
   },
   "file_extension": ".py",
   "mimetype": "text/x-python",
   "name": "python",
   "nbconvert_exporter": "python",
   "pygments_lexer": "ipython3",
   "version": "3.8.5"
  }
 },
 "nbformat": 4,
 "nbformat_minor": 4
}
